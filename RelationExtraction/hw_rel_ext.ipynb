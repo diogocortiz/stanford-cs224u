{
 "cells": [
  {
   "cell_type": "markdown",
   "metadata": {},
   "source": [
    "# Homework and bake-off: Relation extraction using distant supervision"
   ]
  },
  {
   "cell_type": "code",
   "execution_count": 1,
   "metadata": {},
   "outputs": [],
   "source": [
    "__author__ = \"Bill MacCartney and Christopher Potts\"\n",
    "__version__ = \"CS224u, Stanford, Fall 2020\""
   ]
  },
  {
   "cell_type": "markdown",
   "metadata": {},
   "source": [
    "## Contents\n",
    "\n",
    "1. [Overview](#Overview)\n",
    "1. [Set-up](#Set-up)\n",
    "1. [Baselines](#Baselines)\n",
    "  1. [Hand-build feature functions](#Hand-build-feature-functions)\n",
    "  1. [Distributed representations](#Distributed-representations)\n",
    "1. [Homework questions](#Homework-questions)\n",
    "  1. [Different model factory [1 points]](#Different-model-factory-[1-points])\n",
    "  1. [Directional unigram features [1.5 points]](#Directional-unigram-features-[1.5-points])\n",
    "  1. [The part-of-speech tags of the \"middle\" words [1.5 points]](#The-part-of-speech-tags-of-the-\"middle\"-words-[1.5-points])\n",
    "  1. [Bag of Synsets [2 points]](#Bag-of-Synsets-[2-points])\n",
    "  1. [Your original system [3 points]](#Your-original-system-[3-points])\n",
    "1. [Bake-off [1 point]](#Bake-off-[1-point])"
   ]
  },
  {
   "cell_type": "markdown",
   "metadata": {},
   "source": [
    "## Overview\n",
    "\n",
    "This homework and associated bake-off are devoted to developing really effective relation extraction systems using distant supervision. \n",
    "\n",
    "As with the previous assignments, this notebook first establishes a baseline system. The initial homework questions ask you to create additional baselines and suggest areas for innovation, and the final homework question asks you to develop an original system for you to enter into the bake-off."
   ]
  },
  {
   "cell_type": "markdown",
   "metadata": {},
   "source": [
    "## Set-up\n",
    "\n",
    "See [the first notebook in this unit](rel_ext_01_task.ipynb#Set-up) for set-up instructions."
   ]
  },
  {
   "cell_type": "code",
   "execution_count": 93,
   "metadata": {},
   "outputs": [],
   "source": [
    "import numpy as np\n",
    "import os\n",
    "import rel_ext\n",
    "from sklearn.linear_model import LogisticRegression\n",
    "import utils"
   ]
  },
  {
   "cell_type": "markdown",
   "metadata": {},
   "source": [
    "As usual, we unite our corpus and KB into a dataset, and create some splits for experimentation:"
   ]
  },
  {
   "cell_type": "code",
   "execution_count": 94,
   "metadata": {},
   "outputs": [],
   "source": [
    "rel_ext_data_home = os.path.join('data', 'rel_ext_data')"
   ]
  },
  {
   "cell_type": "code",
   "execution_count": 95,
   "metadata": {},
   "outputs": [],
   "source": [
    "corpus = rel_ext.Corpus(os.path.join(rel_ext_data_home, 'corpus.tsv.gz'))"
   ]
  },
  {
   "cell_type": "code",
   "execution_count": 96,
   "metadata": {},
   "outputs": [],
   "source": [
    "kb = rel_ext.KB(os.path.join(rel_ext_data_home, 'kb.tsv.gz'))"
   ]
  },
  {
   "cell_type": "code",
   "execution_count": 97,
   "metadata": {},
   "outputs": [],
   "source": [
    "dataset = rel_ext.Dataset(corpus, kb)"
   ]
  },
  {
   "cell_type": "markdown",
   "metadata": {},
   "source": [
    "You are not wedded to this set-up for splits. The bake-off will be conducted on a previously unseen test-set, so all of the data in `dataset` is fair game:"
   ]
  },
  {
   "cell_type": "code",
   "execution_count": 98,
   "metadata": {},
   "outputs": [],
   "source": [
    "splits = dataset.build_splits(\n",
    "    split_names=['tiny', 'train', 'dev'],\n",
    "    split_fracs=[0.01, 0.79, 0.20],\n",
    "    seed=1)"
   ]
  },
  {
   "cell_type": "code",
   "execution_count": 99,
   "metadata": {},
   "outputs": [
    {
     "data": {
      "text/plain": [
       "{'tiny': Corpus with 3,474 examples; KB with 445 triples,\n",
       " 'train': Corpus with 263,285 examples; KB with 36,191 triples,\n",
       " 'dev': Corpus with 64,937 examples; KB with 9,248 triples,\n",
       " 'all': Corpus with 331,696 examples; KB with 45,884 triples}"
      ]
     },
     "execution_count": 99,
     "metadata": {},
     "output_type": "execute_result"
    }
   ],
   "source": [
    "splits"
   ]
  },
  {
   "cell_type": "markdown",
   "metadata": {},
   "source": [
    "## Baselines"
   ]
  },
  {
   "cell_type": "markdown",
   "metadata": {},
   "source": [
    "### Hand-build feature functions"
   ]
  },
  {
   "cell_type": "code",
   "execution_count": 52,
   "metadata": {},
   "outputs": [],
   "source": [
    "def simple_bag_of_words_featurizer(kbt, corpus, feature_counter):\n",
    "    for ex in corpus.get_examples_for_entities(kbt.sbj, kbt.obj):\n",
    "        for word in ex.middle.split(' '):\n",
    "            feature_counter[word] += 1\n",
    "    for ex in corpus.get_examples_for_entities(kbt.obj, kbt.sbj):\n",
    "        for word in ex.middle.split(' '):\n",
    "            feature_counter[word] += 1\n",
    "    return feature_counter"
   ]
  },
  {
   "cell_type": "code",
   "execution_count": 53,
   "metadata": {},
   "outputs": [],
   "source": [
    "featurizers = [simple_bag_of_words_featurizer]"
   ]
  },
  {
   "cell_type": "code",
   "execution_count": 54,
   "metadata": {},
   "outputs": [],
   "source": [
    "model_factory = lambda: LogisticRegression(fit_intercept=True, solver='liblinear')"
   ]
  },
  {
   "cell_type": "code",
   "execution_count": 55,
   "metadata": {},
   "outputs": [
    {
     "name": "stdout",
     "output_type": "stream",
     "text": [
      "relation              precision     recall    f-score    support       size\n",
      "------------------    ---------  ---------  ---------  ---------  ---------\n",
      "adjoins                   0.844      0.382      0.680        340       5716\n",
      "author                    0.779      0.548      0.719        509       5885\n",
      "capital                   0.500      0.200      0.385         95       5471\n",
      "contains                  0.783      0.598      0.738       3904       9280\n",
      "film_performance          0.775      0.574      0.724        766       6142\n",
      "founders                  0.806      0.395      0.667        380       5756\n",
      "genre                     0.614      0.159      0.390        170       5546\n",
      "has_sibling               0.819      0.244      0.557        499       5875\n",
      "has_spouse                0.857      0.313      0.636        594       5970\n",
      "is_a                      0.696      0.221      0.487        497       5873\n",
      "nationality               0.584      0.173      0.396        301       5677\n",
      "parents                   0.838      0.532      0.752        312       5688\n",
      "place_of_birth            0.620      0.210      0.446        233       5609\n",
      "place_of_death            0.447      0.107      0.273        159       5535\n",
      "profession                0.566      0.190      0.406        247       5623\n",
      "worked_at                 0.721      0.256      0.529        242       5618\n",
      "------------------    ---------  ---------  ---------  ---------  ---------\n",
      "macro-average             0.703      0.319      0.549       9248      95264\n"
     ]
    }
   ],
   "source": [
    "baseline_results = rel_ext.experiment(\n",
    "    splits,\n",
    "    train_split='train',\n",
    "    test_split='dev',\n",
    "    featurizers=featurizers,\n",
    "    model_factory=model_factory,\n",
    "    verbose=True)"
   ]
  },
  {
   "cell_type": "markdown",
   "metadata": {},
   "source": [
    "Studying model weights might yield insights:"
   ]
  },
  {
   "cell_type": "code",
   "execution_count": 56,
   "metadata": {},
   "outputs": [
    {
     "name": "stdout",
     "output_type": "stream",
     "text": [
      "Highest and lowest feature weights for relation adjoins:\n",
      "\n",
      "     2.564 Córdoba\n",
      "     2.493 Taluks\n",
      "     2.456 Valais\n",
      "     ..... .....\n",
      "    -1.367 Europe\n",
      "    -1.511 Spain\n",
      "    -1.831 America\n",
      "\n",
      "Highest and lowest feature weights for relation author:\n",
      "\n",
      "     2.678 books\n",
      "     2.617 author\n",
      "     2.432 book\n",
      "     ..... .....\n",
      "    -2.525 directed\n",
      "    -2.649 Alice\n",
      "    -7.006 1865\n",
      "\n",
      "Highest and lowest feature weights for relation capital:\n",
      "\n",
      "     3.281 capital\n",
      "     1.849 especially\n",
      "     1.824 city\n",
      "     ..... .....\n",
      "    -1.066 or\n",
      "    -1.190 and\n",
      "    -1.826 Westminster\n",
      "\n",
      "Highest and lowest feature weights for relation contains:\n",
      "\n",
      "     3.052 bordered\n",
      "     2.846 third-largest\n",
      "     2.090 tiny\n",
      "     ..... .....\n",
      "    -2.265 who\n",
      "    -2.370 film\n",
      "    -2.599 recorded\n",
      "\n",
      "Highest and lowest feature weights for relation film_performance:\n",
      "\n",
      "     4.094 starring\n",
      "     3.883 alongside\n",
      "     3.303 opposite\n",
      "     ..... .....\n",
      "    -1.994 Amazing\n",
      "    -1.994 Spider-Man\n",
      "    -1.998 Westminster\n",
      "\n",
      "Highest and lowest feature weights for relation founders:\n",
      "\n",
      "     4.140 founder\n",
      "     3.810 founded\n",
      "     3.253 co-founder\n",
      "     ..... .....\n",
      "    -1.765 band\n",
      "    -1.871 writing\n",
      "    -1.872 top\n",
      "\n",
      "Highest and lowest feature weights for relation genre:\n",
      "\n",
      "     2.937 game\n",
      "     2.755 series\n",
      "     2.707 \n",
      "     ..... .....\n",
      "    -1.409 and\n",
      "    -1.534 ;\n",
      "    -1.902 at\n",
      "\n",
      "Highest and lowest feature weights for relation has_sibling:\n",
      "\n",
      "     5.454 brother\n",
      "     4.038 sister\n",
      "     2.882 nephew\n",
      "     ..... .....\n",
      "    -1.447 married\n",
      "    -1.493 –\n",
      "    -2.176 formed\n",
      "\n",
      "Highest and lowest feature weights for relation has_spouse:\n",
      "\n",
      "     5.415 wife\n",
      "     4.318 husband\n",
      "     4.317 widow\n",
      "     ..... .....\n",
      "    -1.202 In\n",
      "    -1.370 on\n",
      "    -1.655 Akhenaten\n",
      "\n",
      "Highest and lowest feature weights for relation is_a:\n",
      "\n",
      "     3.169 \n",
      "     3.086 family\n",
      "     2.467 Family\n",
      "     ..... .....\n",
      "    -1.603 where\n",
      "    -1.640 at\n",
      "    -3.946 widespread\n",
      "\n",
      "Highest and lowest feature weights for relation nationality:\n",
      "\n",
      "     2.991 born\n",
      "     1.909 caliph\n",
      "     1.870 Foreign\n",
      "     ..... .....\n",
      "    -1.407 or\n",
      "    -1.701 U.S.\n",
      "    -1.894 American\n",
      "\n",
      "Highest and lowest feature weights for relation parents:\n",
      "\n",
      "     4.894 son\n",
      "     4.293 father\n",
      "     4.162 daughter\n",
      "     ..... .....\n",
      "    -1.622 Mehli\n",
      "    -1.678 where\n",
      "    -1.797 upon\n",
      "\n",
      "Highest and lowest feature weights for relation place_of_birth:\n",
      "\n",
      "     4.125 born\n",
      "     2.941 birthplace\n",
      "     2.610 mayor\n",
      "     ..... .....\n",
      "    -1.494 and\n",
      "    -1.597 American\n",
      "    -1.816 Westminster\n",
      "\n",
      "Highest and lowest feature weights for relation place_of_death:\n",
      "\n",
      "     2.513 died\n",
      "     1.924 rebuilt\n",
      "     1.897 assassinated\n",
      "     ..... .....\n",
      "    -1.296 and\n",
      "    -1.368 ”\n",
      "    -1.993 Westminster\n",
      "\n",
      "Highest and lowest feature weights for relation profession:\n",
      "\n",
      "     3.737 \n",
      "     2.543 American\n",
      "     2.222 philosopher\n",
      "     ..... .....\n",
      "    -1.259 in\n",
      "    -1.297 at\n",
      "    -2.181 on\n",
      "\n",
      "Highest and lowest feature weights for relation worked_at:\n",
      "\n",
      "     3.433 professor\n",
      "     3.124 CEO\n",
      "     3.047 president\n",
      "     ..... .....\n",
      "    -1.856 ”\n",
      "    -1.908 supercomputing\n",
      "    -2.137 father\n",
      "\n"
     ]
    }
   ],
   "source": [
    "rel_ext.examine_model_weights(baseline_results)"
   ]
  },
  {
   "cell_type": "markdown",
   "metadata": {},
   "source": [
    "### Distributed representations\n",
    "\n",
    "This simple baseline sums the GloVe vector representations for all of the words in the \"middle\" span and feeds those representations into the standard `LogisticRegression`-based `model_factory`. The crucial parameter that enables this is `vectorize=False`. This essentially says to `rel_ext.experiment` that your featurizer or your model will do the work of turning examples into vectors; in that case, `rel_ext.experiment` just organizes these representations by relation type."
   ]
  },
  {
   "cell_type": "code",
   "execution_count": 118,
   "metadata": {},
   "outputs": [],
   "source": [
    "GLOVE_HOME = os.path.join('data', 'glove.6B')"
   ]
  },
  {
   "cell_type": "code",
   "execution_count": 15,
   "metadata": {},
   "outputs": [],
   "source": [
    "glove_lookup = utils.glove2dict(\n",
    "    os.path.join(GLOVE_HOME, 'glove.6B.300d.txt'))"
   ]
  },
  {
   "cell_type": "code",
   "execution_count": 119,
   "metadata": {},
   "outputs": [],
   "source": [
    "def glove_middle_featurizer(kbt, corpus, np_func=np.sum):\n",
    "    reps = []\n",
    "    for ex in corpus.get_examples_for_entities(kbt.sbj, kbt.obj):\n",
    "        for word in ex.middle.split():\n",
    "            rep = glove_lookup.get(word)\n",
    "            if rep is not None:\n",
    "                reps.append(rep)\n",
    "    # A random representation of the right dimensionality if the\n",
    "    # example happens not to overlap with GloVe's vocabulary:\n",
    "    if len(reps) == 0:\n",
    "        dim = len(next(iter(glove_lookup.values())))\n",
    "        return utils.randvec(n=dim)\n",
    "    else:\n",
    "        return np_func(reps, axis=0)"
   ]
  },
  {
   "cell_type": "code",
   "execution_count": 120,
   "metadata": {},
   "outputs": [
    {
     "name": "stdout",
     "output_type": "stream",
     "text": [
      "relation              precision     recall    f-score    support       size\n",
      "------------------    ---------  ---------  ---------  ---------  ---------\n",
      "adjoins                   0.825      0.459      0.712        340       5716\n",
      "author                    0.818      0.450      0.703        509       5885\n",
      "capital                   0.605      0.242      0.466         95       5471\n",
      "contains                  0.645      0.415      0.581       3904       9280\n",
      "film_performance          0.814      0.326      0.627        766       6142\n",
      "founders                  0.794      0.224      0.526        380       5756\n",
      "genre                     0.550      0.065      0.220        170       5546\n",
      "has_sibling               0.866      0.246      0.576        499       5875\n",
      "has_spouse                0.835      0.357      0.658        594       5970\n",
      "is_a                      0.705      0.159      0.418        497       5873\n",
      "nationality               0.680      0.226      0.485        301       5677\n",
      "parents                   0.896      0.413      0.726        312       5688\n",
      "place_of_birth            0.624      0.227      0.462        233       5609\n",
      "place_of_death            0.415      0.107      0.263        159       5535\n",
      "profession                0.632      0.146      0.379        247       5623\n",
      "worked_at                 0.767      0.285      0.573        242       5618\n",
      "------------------    ---------  ---------  ---------  ---------  ---------\n",
      "macro-average             0.717      0.272      0.523       9248      95264\n"
     ]
    }
   ],
   "source": [
    "glove_results = rel_ext.experiment(\n",
    "    splits,\n",
    "    train_split='train',\n",
    "    test_split='dev',\n",
    "    featurizers=[glove_middle_featurizer],\n",
    "    vectorize=False, # Crucial for this featurizer!\n",
    "    verbose=True)"
   ]
  },
  {
   "cell_type": "markdown",
   "metadata": {},
   "source": [
    "With the same basic code design, one can also use the PyTorch models included in the course repo, or write new ones that are better aligned with the task. For those models, it's likely that the featurizer will just return a list of tokens (or perhaps a list of lists of tokens), and the model will map those into vectors using an embedding."
   ]
  },
  {
   "cell_type": "markdown",
   "metadata": {},
   "source": [
    "## Homework questions\n",
    "\n",
    "Please embed your homework responses in this notebook, and do not delete any cells from the notebook. (You are free to add as many cells as you like as part of your responses.)"
   ]
  },
  {
   "cell_type": "markdown",
   "metadata": {},
   "source": [
    "### Different model factory [1 points]\n",
    "\n",
    "The code in `rel_ext` makes it very easy to experiment with other classifier models: one need only redefine the `model_factory` argument. This question asks you to assess a [Support Vector Classifier](https://scikit-learn.org/stable/modules/generated/sklearn.svm.SVC.html).\n",
    "\n",
    "__To submit:__ A wrapper function `run_svm_model_factory` that does the following: \n",
    "\n",
    "1. Uses `rel_ext.experiment` with the model factory set to one based in an `SVC` with `kernel='linear'` and all other arguments left with default values. \n",
    "1. Trains on the 'train' part of `splits`.\n",
    "1. Assesses on the `dev` part of `splits`.\n",
    "1. Uses `featurizers` as defined above. \n",
    "1. Returns the return value of `rel_ext.experiment` for this set-up.\n",
    "\n",
    "The function `test_run_svm_model_factory` will check that your function conforms to these general specifications."
   ]
  },
  {
   "cell_type": "code",
   "execution_count": 57,
   "metadata": {},
   "outputs": [],
   "source": [
    "from sklearn.svm import SVC\n",
    "def run_svm_model_factory():\n",
    "    model_factory = lambda: SVC(kernel='linear')\n",
    "    svc_model = rel_ext.experiment(\n",
    "    splits,\n",
    "    train_split='train',\n",
    "    test_split='dev',\n",
    "    featurizers= [simple_bag_of_words_featurizer],\n",
    "    model_factory=model_factory,\n",
    "    verbose=True)\n",
    "    return svc_model\n"
   ]
  },
  {
   "cell_type": "code",
   "execution_count": 58,
   "metadata": {},
   "outputs": [],
   "source": [
    "def test_run_svm_model_factory(run_svm_model_factory):\n",
    "    results = run_svm_model_factory()\n",
    "    assert 'featurizers' in results, \\\n",
    "        \"The return value of `run_svm_model_factory` seems not to be correct\"\n",
    "    # Check one of the models to make sure it's an SVC:\n",
    "    assert 'SVC' in results['models']['adjoins'].__class__.__name__, \\\n",
    "        \"It looks like the model factor wasn't set to use an SVC.\""
   ]
  },
  {
   "cell_type": "code",
   "execution_count": 59,
   "metadata": {},
   "outputs": [
    {
     "name": "stdout",
     "output_type": "stream",
     "text": [
      "relation              precision     recall    f-score    support       size\n",
      "------------------    ---------  ---------  ---------  ---------  ---------\n",
      "adjoins                   0.784      0.374      0.643        340       5716\n",
      "author                    0.725      0.607      0.698        509       5885\n",
      "capital                   0.683      0.295      0.541         95       5471\n",
      "contains                  0.773      0.607      0.732       3904       9280\n",
      "film_performance          0.737      0.621      0.710        766       6142\n",
      "founders                  0.739      0.439      0.650        380       5756\n",
      "genre                     0.580      0.235      0.448        170       5546\n",
      "has_sibling               0.748      0.238      0.524        499       5875\n",
      "has_spouse                0.812      0.342      0.637        594       5970\n",
      "is_a                      0.626      0.266      0.492        497       5873\n",
      "nationality               0.588      0.199      0.423        301       5677\n",
      "parents                   0.812      0.580      0.752        312       5688\n",
      "place_of_birth            0.557      0.232      0.435        233       5609\n",
      "place_of_death            0.415      0.107      0.263        159       5535\n",
      "profession                0.577      0.243      0.452        247       5623\n",
      "worked_at                 0.625      0.289      0.507        242       5618\n",
      "------------------    ---------  ---------  ---------  ---------  ---------\n",
      "macro-average             0.674      0.355      0.557       9248      95264\n"
     ]
    }
   ],
   "source": [
    "if 'IS_GRADESCOPE_ENV' not in os.environ:\n",
    "    test_run_svm_model_factory(run_svm_model_factory)"
   ]
  },
  {
   "cell_type": "markdown",
   "metadata": {},
   "source": [
    "### Directional unigram features [1.5 points]\n",
    "\n",
    "The current bag-of-words representation makes no distinction between \"forward\" and \"reverse\" examples. But, intuitively, there is big difference between _X and his son Y_ and _Y and his son X_. This question asks you to modify `simple_bag_of_words_featurizer` to capture these differences. \n",
    "\n",
    "__To submit:__\n",
    "\n",
    "1. A feature function `directional_bag_of_words_featurizer` that is just like `simple_bag_of_words_featurizer` except that it distinguishes \"forward\" and \"reverse\". To do this, you just need to mark each word feature for whether it is derived from a subject–object example or from an object–subject example.  The included function `test_directional_bag_of_words_featurizer` should help verify that you've done this correctly.\n",
    "\n",
    "2. A call to `rel_ext.experiment` with `directional_bag_of_words_featurizer` as the only featurizer. (Aside from this, use all the default values for `rel_ext.experiment` as exemplified above in this notebook.)\n",
    "\n",
    "3. `rel_ext.experiment` returns some of the core objects used in the experiment. How many feature names does the `vectorizer` have for the experiment run in the previous step? Include the code needed for getting this value. (Note: we're partly asking you to figure out how to get this value by using the sklearn documentation, so please don't ask how to do it!)"
   ]
  },
  {
   "cell_type": "code",
   "execution_count": 60,
   "metadata": {},
   "outputs": [],
   "source": [
    "def directional_bag_of_words_featurizer(kbt, corpus, feature_counter):\n",
    "    # Append these to the end of the keys you add/access in\n",
    "    # `feature_counter` to distinguish the two orders. You'll\n",
    "    # need to use exactly these strings in order to pass\n",
    "    # `test_directional_bag_of_words_featurizer`.\n",
    "    subject_object_suffix = \"_SO\"\n",
    "    object_subject_suffix = \"_OS\"\n",
    "\n",
    "    for ex in corpus.get_examples_for_entities(kbt.sbj, kbt.obj):\n",
    "        for word in ex.middle.split(' '):\n",
    "            feature_counter[word + subject_object_suffix] += 1\n",
    "    for ex in corpus.get_examples_for_entities(kbt.obj, kbt.sbj):\n",
    "        for word in ex.middle.split(' '):\n",
    "            feature_counter[word +  object_subject_suffix] += 1\n",
    "    return feature_counter\n",
    "\n",
    "\n",
    "# Call to `rel_ext.experiment`:\n",
    "##### YOUR CODE HERE\n",
    "\n",
    "\n"
   ]
  },
  {
   "cell_type": "code",
   "execution_count": 61,
   "metadata": {},
   "outputs": [],
   "source": [
    "def test_directional_bag_of_words_featurizer(corpus):\n",
    "    from collections import defaultdict\n",
    "    kbt = rel_ext.KBTriple(rel='worked_at', sbj='Randall_Munroe', obj='xkcd')\n",
    "    feature_counter = defaultdict(int)\n",
    "    # Make sure `feature_counter` is being updated, not reinitialized:\n",
    "    feature_counter['is_OS'] += 5\n",
    "    feature_counter = directional_bag_of_words_featurizer(kbt, corpus, feature_counter)\n",
    "    expected = defaultdict(\n",
    "        int, {'is_OS':6,'a_OS':1,'webcomic_OS':1,'created_OS':1,'by_OS':1})\n",
    "    assert feature_counter == expected, \\\n",
    "        \"Expected:\\n{}\\nGot:\\n{}\".format(expected, feature_counter)"
   ]
  },
  {
   "cell_type": "code",
   "execution_count": 62,
   "metadata": {},
   "outputs": [],
   "source": [
    "if 'IS_GRADESCOPE_ENV' not in os.environ:\n",
    "    test_directional_bag_of_words_featurizer(corpus)"
   ]
  },
  {
   "cell_type": "markdown",
   "metadata": {},
   "source": [
    "### The part-of-speech tags of the \"middle\" words [1.5 points]\n",
    "\n",
    "Our corpus distribution contains part-of-speech (POS) tagged versions of the core text spans. Let's begin to explore whether there is information in these sequences, focusing on `middle_POS`.\n",
    "\n",
    "__To submit:__\n",
    "\n",
    "1. A feature function `middle_bigram_pos_tag_featurizer` that is just like `simple_bag_of_words_featurizer` except that it creates a feature for bigram POS sequences. For example, given \n",
    "\n",
    "  `The/DT dog/N napped/V`\n",
    "  \n",
    "   we obtain the list of bigram POS sequences\n",
    "  \n",
    "   `b = ['<s> DT', 'DT N', 'N V', 'V </s>']`. \n",
    "   \n",
    "   Of course, `middle_bigram_pos_tag_featurizer` should return count dictionaries defined in terms of such bigram POS lists, on the model of `simple_bag_of_words_featurizer`.  Don't forget the start and end tags, to model those environments properly! The included function `test_middle_bigram_pos_tag_featurizer` should help verify that you've done this correctly.\n",
    "\n",
    "2. A call to `rel_ext.experiment` with `middle_bigram_pos_tag_featurizer` as the only featurizer. (Aside from this, use all the default values for `rel_ext.experiment` as exemplified above in this notebook.)"
   ]
  },
  {
   "cell_type": "code",
   "execution_count": 67,
   "metadata": {},
   "outputs": [
    {
     "name": "stdout",
     "output_type": "stream",
     "text": [
      "relation              precision     recall    f-score    support       size\n",
      "------------------    ---------  ---------  ---------  ---------  ---------\n",
      "adjoins                   0.836      0.344      0.650        340       5716\n",
      "author                    0.707      0.318      0.568        509       5885\n",
      "capital                   0.350      0.147      0.275         95       5471\n",
      "contains                  0.748      0.595      0.711       3904       9280\n",
      "film_performance          0.716      0.444      0.638        766       6142\n",
      "founders                  0.538      0.168      0.374        380       5756\n",
      "genre                     0.604      0.171      0.401        170       5546\n",
      "has_sibling               0.686      0.162      0.417        499       5875\n",
      "has_spouse                0.728      0.261      0.536        594       5970\n",
      "is_a                      0.561      0.157      0.370        497       5873\n",
      "nationality               0.387      0.080      0.219        301       5677\n",
      "parents                   0.653      0.260      0.501        312       5688\n",
      "place_of_birth            0.588      0.172      0.396        233       5609\n",
      "place_of_death            0.344      0.069      0.192        159       5535\n",
      "profession                0.543      0.154      0.361        247       5623\n",
      "worked_at                 0.493      0.136      0.324        242       5618\n",
      "------------------    ---------  ---------  ---------  ---------  ---------\n",
      "macro-average             0.593      0.227      0.433       9248      95264\n"
     ]
    },
    {
     "data": {
      "text/plain": [
       "{'featurizers': [<function __main__.middle_bigram_pos_tag_featurizer(kbt, corpus, feature_counter)>],\n",
       " 'vectorizer': DictVectorizer(),\n",
       " 'models': {'adjoins': LogisticRegression(solver='liblinear'),\n",
       "  'author': LogisticRegression(solver='liblinear'),\n",
       "  'capital': LogisticRegression(solver='liblinear'),\n",
       "  'contains': LogisticRegression(solver='liblinear'),\n",
       "  'film_performance': LogisticRegression(solver='liblinear'),\n",
       "  'founders': LogisticRegression(solver='liblinear'),\n",
       "  'genre': LogisticRegression(solver='liblinear'),\n",
       "  'has_sibling': LogisticRegression(solver='liblinear'),\n",
       "  'has_spouse': LogisticRegression(solver='liblinear'),\n",
       "  'is_a': LogisticRegression(solver='liblinear'),\n",
       "  'nationality': LogisticRegression(solver='liblinear'),\n",
       "  'parents': LogisticRegression(solver='liblinear'),\n",
       "  'place_of_birth': LogisticRegression(solver='liblinear'),\n",
       "  'place_of_death': LogisticRegression(solver='liblinear'),\n",
       "  'profession': LogisticRegression(solver='liblinear'),\n",
       "  'worked_at': LogisticRegression(solver='liblinear')},\n",
       " 'all_relations': ['adjoins',\n",
       "  'author',\n",
       "  'capital',\n",
       "  'contains',\n",
       "  'film_performance',\n",
       "  'founders',\n",
       "  'genre',\n",
       "  'has_sibling',\n",
       "  'has_spouse',\n",
       "  'is_a',\n",
       "  'nationality',\n",
       "  'parents',\n",
       "  'place_of_birth',\n",
       "  'place_of_death',\n",
       "  'profession',\n",
       "  'worked_at'],\n",
       " 'vectorize': True}"
      ]
     },
     "execution_count": 67,
     "metadata": {},
     "output_type": "execute_result"
    }
   ],
   "source": [
    "def middle_bigram_pos_tag_featurizer(kbt, corpus, feature_counter):\n",
    "\n",
    "    for ex in corpus.get_examples_for_entities(kbt.sbj, kbt.obj):\n",
    "        for word in get_tag_bigrams(ex.middle_POS):\n",
    "            feature_counter[word] += 1\n",
    "    for ex in corpus.get_examples_for_entities(kbt.obj, kbt.sbj):\n",
    "        for word in get_tag_bigrams(ex.middle_POS):\n",
    "            feature_counter[word] += 1\n",
    "    return feature_counter\n",
    "\n",
    "\n",
    "\n",
    "def get_tag_bigrams(s):\n",
    "    \"\"\"Suggested helper method for `middle_bigram_pos_tag_featurizer`.\n",
    "    This should be defined so that it returns a list of str, where each\n",
    "    element is a POS bigram.\"\"\"\n",
    "    # The values of `start_symbol` and `end_symbol` are defined\n",
    "    # here so that you can use `test_middle_bigram_pos_tag_featurizer`.\n",
    "    start_symbol = \"<s>\"\n",
    "    end_symbol = \"</s>\"\n",
    "    \n",
    "    tags = get_tags(s)\n",
    "    if tags:\n",
    "        resultado = [start_symbol + \" \" + tags[0] ]\n",
    "        for i in range (len(tags)-1):\n",
    "            resultado.append(tags[i] + \" \" + tags[i+1])\n",
    "\n",
    "        resultado.append(tags[-1] + \" \" + end_symbol)\n",
    "        return resultado\n",
    "    else:\n",
    "        return []\n",
    "    \n",
    "\n",
    "\n",
    "def get_tags(s):\n",
    "    \"\"\"Given a sequence of word/POS elements (lemmas), this function\n",
    "    returns a list containing just the POS elements, in order.\n",
    "    \"\"\"\n",
    "    return [parse_lem(lem)[1] for lem in s.strip().split(' ') if lem]\n",
    "\n",
    "\n",
    "def parse_lem(lem):\n",
    "    \"\"\"Helper method for parsing word/POS elements. It just splits\n",
    "    on the rightmost / and returns (word, POS) as a tuple of str.\"\"\"\n",
    "    return lem.strip().rsplit('/', 1)\n",
    "\n",
    "# Call to `rel_ext.experiment`:\n",
    "##### YOUR CODE HERE\n",
    "\n",
    "featurizers = [middle_bigram_pos_tag_featurizer]\n",
    "model_factory = lambda: LogisticRegression(fit_intercept=True, solver='liblinear')\n",
    "rel_ext.experiment(\n",
    "    splits,\n",
    "    train_split='train',\n",
    "    test_split='dev',\n",
    "    featurizers=featurizers,\n",
    "    model_factory=model_factory,\n",
    "    verbose=True)\n",
    "\n"
   ]
  },
  {
   "cell_type": "code",
   "execution_count": 68,
   "metadata": {},
   "outputs": [],
   "source": [
    "def test_middle_bigram_pos_tag_featurizer(corpus):\n",
    "    from collections import defaultdict\n",
    "    kbt = rel_ext.KBTriple(rel='worked_at', sbj='Randall_Munroe', obj='xkcd')\n",
    "    feature_counter = defaultdict(int)\n",
    "    # Make sure `feature_counter` is being updated, not reinitialized:\n",
    "    feature_counter['<s> VBZ'] += 5\n",
    "    feature_counter = middle_bigram_pos_tag_featurizer(kbt, corpus, feature_counter)\n",
    "    expected = defaultdict(\n",
    "        int, {'<s> VBZ':6,'VBZ DT':1,'DT JJ':1,'JJ VBN':1,'VBN IN':1,'IN </s>':1})\n",
    "    assert feature_counter == expected, \\\n",
    "        \"Expected:\\n{}\\nGot:\\n{}\".format(expected, feature_counter)"
   ]
  },
  {
   "cell_type": "code",
   "execution_count": 69,
   "metadata": {},
   "outputs": [],
   "source": [
    "if 'IS_GRADESCOPE_ENV' not in os.environ:\n",
    "    test_middle_bigram_pos_tag_featurizer(corpus)"
   ]
  },
  {
   "cell_type": "markdown",
   "metadata": {},
   "source": [
    "### Bag of Synsets [2 points]\n",
    "\n",
    "The following allows you to use NLTK's WordNet API to get the synsets compatible with _dog_ as used as a noun:\n",
    "\n",
    "```\n",
    "from nltk.corpus import wordnet as wn\n",
    "dog = wn.synsets('dog', pos='n')\n",
    "dog\n",
    "[Synset('dog.n.01'),\n",
    " Synset('frump.n.01'),\n",
    " Synset('dog.n.03'),\n",
    " Synset('cad.n.01'),\n",
    " Synset('frank.n.02'),\n",
    " Synset('pawl.n.01'),\n",
    " Synset('andiron.n.01')]\n",
    "```\n",
    "\n",
    "This question asks you to create synset-based features from the word/tag pairs in `middle_POS`.\n",
    "\n",
    "__To submit:__\n",
    "\n",
    "1. A feature function `synset_featurizer` that is just like `simple_bag_of_words_featurizer` except that it returns a list of synsets derived from `middle_POS`. Stringify these objects with `str` so that they can be `dict` keys. Use `convert_tag` (included below) to convert tags to `pos` arguments usable by `wn.synsets`. The included function `test_synset_featurizer` should help verify that you've done this correctly.\n",
    "\n",
    "2. A call to `rel_ext.experiment` with `synset_featurizer` as the only featurizer. (Aside from this, use all the default values for `rel_ext.experiment`.)"
   ]
  },
  {
   "cell_type": "code",
   "execution_count": 101,
   "metadata": {},
   "outputs": [],
   "source": [
    "from nltk.corpus import wordnet as wn\n",
    "\n",
    "def synset_featurizer(kbt, corpus, feature_counter):\n",
    "\n",
    "    for ex in corpus.get_examples_for_entities(kbt.sbj, kbt.obj):\n",
    "        for word in ex.middle_POS.split(' '):\n",
    "            synsets = get_synsets(word)\n",
    "            for x in synsets:\n",
    "                feature_counter[x] += 1\n",
    "    for ex in corpus.get_examples_for_entities(kbt.obj, kbt.sbj):\n",
    "        for word in ex.middle_POS.split(' '):\n",
    "            synsets = get_synsets(word)\n",
    "            for x in synsets:\n",
    "                feature_counter[x] += 1\n",
    "\n",
    "    return feature_counter\n",
    "\n",
    "\n",
    "def get_synsets(s):\n",
    "    \"\"\"Suggested helper method for `synset_featurizer`. This should\n",
    "    be completed so that it returns a list of stringified Synsets\n",
    "    associated with elements of `s`.\n",
    "    \"\"\"\n",
    "    # Use `parse_lem` from the previous question to get a list of\n",
    "    # (word, POS) pairs. Remember to convert the POS strings.\n",
    "    wt = [parse_lem(lem) for lem in s.strip().split(' ') if lem]\n",
    "\n",
    "    ##### YOUR CODE HERE\n",
    "    synset_list = []\n",
    "    if wt:\n",
    "        synsets_list = wn.synsets(wt[0][0], pos=convert_tag(wt[0][1]))\n",
    "    return [str(x) for x in synsets_list]\n",
    "        \n",
    "\n",
    "\n",
    "\n",
    "\n",
    "def convert_tag(t):\n",
    "    \"\"\"Converts tags so that they can be used by WordNet:\n",
    "\n",
    "    | Tag begins with | WordNet tag |\n",
    "    |-----------------|-------------|\n",
    "    | `N`             | `n`         |\n",
    "    | `V`             | `v`         |\n",
    "    | `J`             | `a`         |\n",
    "    | `R`             | `r`         |\n",
    "    | Otherwise       | `None`      |\n",
    "    \"\"\"\n",
    "    if t[0].lower() in {'n', 'v', 'r'}:\n",
    "        return t[0].lower()\n",
    "    elif t[0].lower() == 'j':\n",
    "        return 'a'\n",
    "    else:\n",
    "        return None\n",
    "\n",
    "\n",
    "# Call to `rel_ext.experiment`:\n",
    "##### YOUR CODE HERE\n",
    "\n",
    "\n"
   ]
  },
  {
   "cell_type": "code",
   "execution_count": 102,
   "metadata": {},
   "outputs": [],
   "source": [
    "def test_synset_featurizer(corpus):\n",
    "    from collections import defaultdict\n",
    "    kbt = rel_ext.KBTriple(rel='worked_at', sbj='Randall_Munroe', obj='xkcd')\n",
    "    feature_counter = defaultdict(int)\n",
    "    # Make sure `feature_counter` is being updated, not reinitialized:\n",
    "    feature_counter[\"Synset('be.v.01')\"] += 5\n",
    "    feature_counter = synset_featurizer(kbt, corpus, feature_counter)\n",
    "    # The full return values for this tend to be long, so we just\n",
    "    # test a few examples to avoid cluttering up this notebook.\n",
    "    test_cases = {\n",
    "        \"Synset('be.v.01')\": 6,\n",
    "        \"Synset('embody.v.02')\": 1\n",
    "    }\n",
    "    for ss, expected in test_cases.items():\n",
    "        result = feature_counter[ss]\n",
    "        assert result == expected, \\\n",
    "            \"Incorrect count for {}: Expected {}; Got {}\".format(ss, expected, result)"
   ]
  },
  {
   "cell_type": "code",
   "execution_count": 103,
   "metadata": {},
   "outputs": [],
   "source": [
    "if 'IS_GRADESCOPE_ENV' not in os.environ:\n",
    "    test_synset_featurizer(corpus)"
   ]
  },
  {
   "cell_type": "markdown",
   "metadata": {},
   "source": [
    "### Your original system [3 points]\n",
    "\n",
    "There are many options, and this could easily grow into a project. Here are a few ideas:\n",
    "\n",
    "- Try out different classifier models, from `sklearn` and elsewhere.\n",
    "- Add a feature that indicates the length of the middle.\n",
    "- Augment the bag-of-words representation to include bigrams or trigrams (not just unigrams).\n",
    "- Introduce features based on the entity mentions themselves. <!-- \\[SPOILER: it helps a lot, maybe 4% in F-score. And combines nicely with the directional features.\\] -->\n",
    "- Experiment with features based on the context outside (rather than between) the two entity mentions — that is, the words before the first mention, or after the second.\n",
    "- Try adding features which capture syntactic information, such as the dependency-path features used by Mintz et al. 2009. The [NLTK](https://www.nltk.org/) toolkit contains a variety of [parsing algorithms](http://www.nltk.org/api/nltk.parse.html) that may help.\n",
    "- The bag-of-words representation does not permit generalization across word categories such as names of people, places, or companies. Can we do better using word embeddings such as [GloVe](https://nlp.stanford.edu/projects/glove/)?\n",
    "\n",
    "In the cell below, please provide a brief technical description of your original system, so that the teaching team can gain an understanding of what it does. This will help us to understand your code and analyze all the submissions to identify patterns and strategies. We also ask that you report the best score your system got during development, just to help us understand how systems performed overall."
   ]
  },
  {
   "cell_type": "code",
   "execution_count": null,
   "metadata": {},
   "outputs": [],
   "source": []
  },
  {
   "cell_type": "code",
   "execution_count": 138,
   "metadata": {},
   "outputs": [
    {
     "name": "stdout",
     "output_type": "stream",
     "text": [
      "relation              precision     recall    f-score    support       size\n",
      "------------------    ---------  ---------  ---------  ---------  ---------\n",
      "adjoins                   0.889      0.447      0.742        340       5716\n",
      "author                    0.702      0.635      0.688        509       5885\n",
      "capital                   0.375      0.158      0.294         95       5471\n",
      "contains                  0.789      0.713      0.773       3904       9280\n",
      "film_performance          0.724      0.608      0.697        766       6142\n",
      "founders                  0.327      0.195      0.288        380       5756\n",
      "genre                     0.561      0.218      0.426        170       5546\n",
      "has_sibling               0.754      0.609      0.720        499       5875\n",
      "has_spouse                0.534      0.281      0.452        594       5970\n",
      "is_a                      0.592      0.511      0.574        497       5873\n",
      "nationality               0.582      0.545      0.574        301       5677\n",
      "parents                   0.653      0.519      0.621        312       5688\n",
      "place_of_birth            0.607      0.378      0.541        233       5609\n",
      "place_of_death            0.700      0.352      0.585        159       5535\n",
      "profession                0.587      0.437      0.549        247       5623\n",
      "worked_at                 0.444      0.182      0.345        242       5618\n",
      "------------------    ---------  ---------  ---------  ---------  ---------\n",
      "macro-average             0.614      0.424      0.554       9248      95264\n"
     ]
    }
   ],
   "source": [
    "# PLEASE MAKE SURE TO INCLUDE THE FOLLOWING BETWEEN THE START AND STOP COMMENTS:\n",
    "#   1) Textual description of your system.\n",
    "#   2) The code for your original system.\n",
    "#   3) The score achieved by your system in place of MY_NUMBER.\n",
    "#        With no other changes to that line.\n",
    "#        You should report your score as a decimal value <=1.0\n",
    "# PLEASE MAKE SURE NOT TO DELETE OR EDIT THE START AND STOP COMMENTS\n",
    "\n",
    "# NOTE: MODULES, CODE AND DATASETS REQUIRED FOR YOUR ORIGINAL SYSTEM \n",
    "# SHOULD BE ADDED BELOW THE 'IS_GRADESCOPE_ENV' CHECK CONDITION. DOING\n",
    "# SO ABOVE THE CHECK MAY CAUSE THE AUTOGRADER TO FAIL.\n",
    "\n",
    "# START COMMENT: Enter your system description in this cell.\n",
    "# The model consists of a Logistic Regression. I've used as features: lenght of middle, BoW Middle, and \n",
    "# in order to experiment with the context, I've also used BoW from left and Right.\n",
    "# Middle POS bigram was also used.\n",
    "# My peak score was: 0.554\n",
    "if 'IS_GRADESCOPE_ENV' not in os.environ:\n",
    "    def lenght_middle (kbt, corpus, feature_counter):\n",
    "        for ex in corpus.get_examples_for_entities(kbt.sbj, kbt.obj):\n",
    "            middle_length = len(ex.middle.split(' '))\n",
    "            feature_counter[str(middle_length)] += 1\n",
    "        for ex in corpus.get_examples_for_entities(kbt.obj, kbt.sbj):\n",
    "            middle_length = len(ex.middle.split(' '))\n",
    "            feature_counter[str(middle_length)] += 1\n",
    "        return feature_counter\n",
    "    \n",
    "    def left_bag_of_words_featurizer(kbt, corpus, feature_counter):\n",
    "        for ex in corpus.get_examples_for_entities(kbt.sbj, kbt.obj):\n",
    "            for word in ex.left.split(' '):\n",
    "                feature_counter[word] += 1\n",
    "        for ex in corpus.get_examples_for_entities(kbt.obj, kbt.sbj):\n",
    "            for word in ex.left.split(' '):\n",
    "                feature_counter[word] += 1\n",
    "        return feature_counter\n",
    "    \n",
    "    def right_bag_of_words_featurizer(kbt, corpus, feature_counter):\n",
    "        for ex in corpus.get_examples_for_entities(kbt.sbj, kbt.obj):\n",
    "            for word in ex.right.split(' '):\n",
    "                feature_counter[word] += 1\n",
    "        for ex in corpus.get_examples_for_entities(kbt.obj, kbt.sbj):\n",
    "            for word in ex.right.split(' '):\n",
    "                feature_counter[word] += 1\n",
    "        return feature_counter\n",
    "    \n",
    "    featurizers = [left_bag_of_words_featurizer, left_bag_of_words_featurizer, right_bag_of_words_featurizer, middle_bigram_pos_tag_featurizer]\n",
    "    model_factory = lambda: LogisticRegression(fit_intercept=True, solver='liblinear')\n",
    "\n",
    "    model_result = rel_ext.experiment(\n",
    "    splits,\n",
    "    train_split='train',\n",
    "    test_split='dev',\n",
    "    featurizers=featurizers,\n",
    "    verbose=True)\n",
    "    \n",
    "# STOP COMMENT: Please do not remove this comment."
   ]
  },
  {
   "cell_type": "markdown",
   "metadata": {},
   "source": [
    "## Bake-off [1 point]\n",
    "\n",
    "For the bake-off, we will release a test set. The announcement will go out on the discussion forum. You will evaluate your custom model from the previous question on these new datasets using the function `rel_ext.bake_off_experiment`. Rules:\n",
    "\n",
    "1. Only one evaluation is permitted.\n",
    "1. No additional system tuning is permitted once the bake-off has started.\n",
    "\n",
    "The cells below this one constitute your bake-off entry.\n",
    "\n",
    "People who enter will receive the additional homework point, and people whose systems achieve the top score will receive an additional 0.5 points. We will test the top-performing systems ourselves, and only systems for which we can reproduce the reported results will win the extra 0.5 points.\n",
    "\n",
    "Late entries will be accepted, but they cannot earn the extra 0.5 points. Similarly, you cannot win the bake-off unless your homework is submitted on time.\n",
    "\n",
    "The announcement will include the details on where to submit your entry."
   ]
  },
  {
   "cell_type": "code",
   "execution_count": null,
   "metadata": {},
   "outputs": [],
   "source": [
    "# Enter your bake-off assessment code in this cell.\n",
    "# Please do not remove this comment.\n",
    "if 'IS_GRADESCOPE_ENV' not in os.environ:\n",
    "    pass\n",
    "    # Please enter your code in the scope of the above conditional.\n",
    "    ##### YOUR CODE HERE\n"
   ]
  },
  {
   "cell_type": "code",
   "execution_count": null,
   "metadata": {},
   "outputs": [],
   "source": [
    "# On an otherwise blank line in this cell, please enter\n",
    "# your macro-average f-score (an F_0.5 score) as reported\n",
    "# by the code above. Please enter only a number between\n",
    "# 0 and 1 inclusive. Please do not remove this comment.\n",
    "if 'IS_GRADESCOPE_ENV' not in os.environ:\n",
    "    pass\n",
    "    # Please enter your score in the scope of the above conditional.\n",
    "    ##### YOUR CODE HERE\n"
   ]
  }
 ],
 "metadata": {
  "kernelspec": {
   "display_name": "Python 3",
   "language": "python",
   "name": "python3"
  },
  "language_info": {
   "codemirror_mode": {
    "name": "ipython",
    "version": 3
   },
   "file_extension": ".py",
   "mimetype": "text/x-python",
   "name": "python",
   "nbconvert_exporter": "python",
   "pygments_lexer": "ipython3",
   "version": "3.8.5"
  },
  "widgets": {
   "state": {},
   "version": "1.1.2"
  }
 },
 "nbformat": 4,
 "nbformat_minor": 4
}
